{
 "cells": [
  {
   "cell_type": "markdown",
   "metadata": {},
   "source": [
    "# Self-Driving Car Engineer Nanodegree\n",
    "\n",
    "\n",
    "## Project: **Advanced Lane Finding** "
   ]
  },
  {
   "cell_type": "markdown",
   "metadata": {},
   "source": [
    "## Import Packages"
   ]
  },
  {
   "cell_type": "code",
   "execution_count": 1,
   "metadata": {
    "collapsed": true
   },
   "outputs": [],
   "source": [
    "#importing some useful packages\n",
    "import matplotlib.pyplot as plt\n",
    "import matplotlib.image as mpimg\n",
    "import numpy as np\n",
    "import cv2\n",
    "import pickle\n",
    "\n",
    "from helper_functions import undistortImage, warpImage, unwarpImage, absSobelThresh, getColorFilter\n",
    "\n",
    "%matplotlib inline"
   ]
  },
  {
   "cell_type": "code",
   "execution_count": 2,
   "metadata": {
    "collapsed": true
   },
   "outputs": [],
   "source": [
    "# RGB range for yellow and white lane lines\n",
    "yellow_low = np.array([180, 128, 0])\n",
    "yellow_high = np.array([255, 255, 128])    \n",
    "white_low = np.array([230, 230, 128])\n",
    "white_high = np.array([255, 255, 255])\n",
    "\n",
    "# First n frames to ignore while doing sanity and other checks\n",
    "first_n_frames = 5"
   ]
  },
  {
   "cell_type": "code",
   "execution_count": 3,
   "metadata": {
    "collapsed": true
   },
   "outputs": [],
   "source": [
    "# Load saved parameters\n",
    "camera_params = pickle.load(open(\"camera_params.pkl\", \"rb\"))\n",
    "camera_mtx = camera_params[0]\n",
    "camera_dist = camera_params[1]\n",
    "\n",
    "transform_matrix = pickle.load(open(\"transform_matrix.pkl\", \"rb\"))\n",
    "M = transform_matrix[0]\n",
    "Minv = transform_matrix[1]"
   ]
  },
  {
   "cell_type": "markdown",
   "metadata": {},
   "source": [
    "## Read in an Image"
   ]
  },
  {
   "cell_type": "code",
   "execution_count": 4,
   "metadata": {
    "collapsed": true
   },
   "outputs": [],
   "source": [
    "#reading in an image\n",
    "image = mpimg.imread('test_images/straight_lines1.jpg')\n",
    "img_size = (image.shape[1], image.shape[0])\n",
    "\n",
    "#printing out some stats and plotting\n",
    "#print('This image is:', type(image), 'with dimensions:', image.shape)\n",
    "#plt.imshow(image)  # if you wanted to show a single color channel image called 'gray', for example, call as plt.imshow(gray, cmap='gray')"
   ]
  },
  {
   "cell_type": "code",
   "execution_count": 5,
   "metadata": {
    "collapsed": true
   },
   "outputs": [],
   "source": [
    "def laneSelectionFilter(image):        \n",
    "    # Get yellow and white filters\n",
    "    yellow_filter = getColorFilter(image, yellow_low, yellow_high)\n",
    "    white_filter = getColorFilter(image, white_low, white_high)\n",
    "    # Combine yellow and white filters\n",
    "    lane_color_filter = cv2.bitwise_or(yellow_filter, white_filter)\n",
    "    \n",
    "    # Convert image to gray \n",
    "    gray = cv2.cvtColor(image, cv2.COLOR_RGB2GRAY)\n",
    "    # Apply sobel x filter\n",
    "    sobel_x = absSobelThresh(gray, 'x', 3, (20,100))    \n",
    "    \n",
    "    # Combine Color and Sobel filter\n",
    "    lane_filter = np.zeros_like(sobel_x)\n",
    "    lane_filter[(lane_color_filter >= 0.5) | (sobel_x >= 0.5)] = 1\n",
    "        \n",
    "    if 0:\n",
    "        f, ((ax1, ax2), (ax3, ax4)) = plt.subplots(2, 2, figsize=(15, 9))\n",
    "        #f, (ax1, ax2) = plt.subplots(1, 2, figsize=(15, 9))\n",
    "        f.tight_layout()\n",
    "        ax1.imshow(image)\n",
    "        ax1.set_title('Warped Image', fontsize=20)\n",
    "        ax1.axis('off')\n",
    "        ax2.imshow(lane_color_filter)\n",
    "        ax2.set_title('Yellow-White Color Filter', fontsize=20)\n",
    "        ax2.axis('off')\n",
    "        ax3.imshow(sobel_x)\n",
    "        ax3.set_title('Sobel X Filter', fontsize=20)\n",
    "        ax3.axis('off')\n",
    "        ax4.imshow(lane_filter)\n",
    "        ax4.set_title('Final Filter', fontsize=20)\n",
    "        ax4.axis('off')\n",
    "        f.subplots_adjust(hspace=0)\n",
    "    \n",
    "    return lane_filter    "
   ]
  },
  {
   "cell_type": "code",
   "execution_count": 6,
   "metadata": {
    "collapsed": true
   },
   "outputs": [],
   "source": [
    "def findRadiusOfCurvature(ploty, fitx):\n",
    "    # Define y-value where we want radius of curvature\n",
    "    # I'll choose the maximum y-value, corresponding to the bottom of the image\n",
    "    y_eval = np.max(ploty)\n",
    "    # Define conversions in x and y from pixels space to meters\n",
    "    ym_per_pix = 30/720 # meters per pixel in y dimension\n",
    "    xm_per_pix = 3.7/700 # meters per pixel in x dimension\n",
    "\n",
    "    # Fit new polynomials to x,y in world space\n",
    "    fit_cr = np.polyfit(ploty*ym_per_pix, fitx*xm_per_pix, 2)\n",
    "    # Calculate the new radii of curvature\n",
    "    radius_of_curvature = ((1 + (2*fit_cr[0]*y_eval*ym_per_pix + fit_cr[1])**2)**1.5) / np.absolute(2*fit_cr[0])\n",
    "\n",
    "    return radius_of_curvature"
   ]
  },
  {
   "cell_type": "code",
   "execution_count": 7,
   "metadata": {
    "collapsed": true
   },
   "outputs": [],
   "source": [
    "def findCarPosition(left_lane, right_lane):\n",
    "    # Find value of x at the bottom of the image for both left and right lanes\n",
    "    y_value = img_size[1]\n",
    "    image_center = img_size[0]/2\n",
    "    left_x = left_lane.best_fit[0]*y_value**2 + left_lane.best_fit[1]*y_value + left_lane.best_fit[2]\n",
    "    right_x = right_lane.best_fit[0]*y_value**2 + right_lane.best_fit[1]*y_value + right_lane.best_fit[2]\n",
    "    car_center = (left_x + right_x)/2\n",
    "    # Define conversions in x and y from pixels space to meters\n",
    "    xm_per_pix = 3.7/700 # meteres per pixel in x dimension    \n",
    "    return (image_center - car_center)*xm_per_pix"
   ]
  },
  {
   "cell_type": "code",
   "execution_count": 8,
   "metadata": {
    "collapsed": true
   },
   "outputs": [],
   "source": [
    "def sanityCheck(left_fitx, right_fitx, left_radius_of_curvature, right_radius_of_curvature):\n",
    "    global frame_number\n",
    "    sanity_check = True\n",
    "    lane_width = 3 # This number if found by running through the video \n",
    "    xm_per_pix = lane_width/700\n",
    "    \n",
    "    # Check for lane width\n",
    "    diffx = np.subtract(right_fitx, left_fitx)    \n",
    "    avg_lane_width = np.sum(diffx)/len(diffx)\n",
    "    avg_lane_width_meters = avg_lane_width*xm_per_pix\n",
    "    min_lane_width = lane_width - 0.5\n",
    "    max_lane_width = lane_width + 0.5\n",
    "    \n",
    "    # Check if lane width is within a margin of known lane width\n",
    "    if((avg_lane_width_meters < min_lane_width) | (avg_lane_width_meters > max_lane_width)):\n",
    "        sanity_check = False\n",
    "        \n",
    "    # Check if the left and right radius of curavture agree with each other\n",
    "    diff_rad = np.abs(left_radius_of_curvature - right_radius_of_curvature)/max(left_radius_of_curvature, right_radius_of_curvature)\n",
    "    if(diff_rad > 0.7):\n",
    "        sanity_check &= False\n",
    "    \n",
    "    # Don't do sanity check on first few frames\n",
    "    if(frame_number < first_n_frames):\n",
    "        sanity_check = True\n",
    "        \n",
    "    return sanity_check    "
   ]
  },
  {
   "cell_type": "code",
   "execution_count": 9,
   "metadata": {
    "collapsed": true
   },
   "outputs": [],
   "source": [
    "def findLanePixels(lane_filter, lane):    \n",
    "    #Find the pixel positions from scratch if find_lane is True\n",
    "    # Otherwise use previous positions to estimate the current pixel positions\n",
    "    if True == lane.find_lane:\n",
    "        lane.findLane(lane_filter)\n",
    "    else:\n",
    "        lane.estimateLane(lane_filter)\n",
    "    \n",
    "    # If no lane pixels are found in the current frame, use previous frame's lane pixels.\n",
    "    # This makes sure that the video doesnt break in between\n",
    "    if((0 == lane.allx.size) | (0 == lane.ally.size)):\n",
    "        allx = lane.prev_allx\n",
    "        ally = lane.prev_ally\n",
    "    else:\n",
    "        allx = lane.allx\n",
    "        ally = lane.ally\n",
    "        lane.prev_allx = allx\n",
    "        lane.prev_ally = ally        \n",
    "        \n",
    "    return ally, allx"
   ]
  },
  {
   "cell_type": "code",
   "execution_count": 10,
   "metadata": {
    "collapsed": true
   },
   "outputs": [],
   "source": [
    "def generateXValues(fit, ploty):\n",
    "    # Find x values given polynomial and y values\n",
    "    fitx = fit[0]*ploty**2 + fit[1]*ploty + fit[2]\n",
    "    return fitx"
   ]
  },
  {
   "cell_type": "markdown",
   "metadata": {},
   "source": [
    "## Build Advanced Lane Finding Pipeline\n",
    "\n"
   ]
  },
  {
   "cell_type": "code",
   "execution_count": 11,
   "metadata": {},
   "outputs": [],
   "source": [
    "def pipeline(image):\n",
    "    global frame_number\n",
    "    \n",
    "    frame_number += 1\n",
    "    \n",
    "    Left_Lane.frame_number = frame_number\n",
    "    Right_Lane.frame_number = frame_number\n",
    "\n",
    "    # Undistort the image\n",
    "    undist = undistortImage(image, camera_mtx, camera_dist)\n",
    "    \n",
    "    # Perform perspective transform to get bird's eye view of the lanes\n",
    "    warped = warpImage(undist, M, img_size)\n",
    "    \n",
    "    # Detect lane lines using filtering and thresholding techniques\n",
    "    lane_filter = laneSelectionFilter(warped)\n",
    "        \n",
    "    if 0:\n",
    "        f, (ax1, ax2) = plt.subplots(1, 2, figsize=(24, 9))\n",
    "        f.tight_layout()\n",
    "        ax1.imshow(warped)\n",
    "        ax1.set_title('Warped Image', fontsize=30)\n",
    "        ax2.imshow(lane_filter)\n",
    "        ax2.set_title('Binary Image', fontsize=30)        \n",
    "        \n",
    "    # Find lane pixel positions. \n",
    "    left_lane_ally, left_lane_allx = findLanePixels(lane_filter, Left_Lane)\n",
    "    right_lane_ally, right_lane_allx = findLanePixels(lane_filter, Right_Lane)\n",
    "        \n",
    "    # Fit a second order polynomial to each lane\n",
    "    left_current_fit = np.polyfit(left_lane_ally, left_lane_allx, 2)\n",
    "    right_current_fit = np.polyfit(right_lane_ally, right_lane_allx, 2)    \n",
    "    \n",
    "    # Generate x and y values for plotting\n",
    "    ploty = np.linspace(0, lane_filter.shape[0]-1, lane_filter.shape[0])\n",
    "    left_fitx = generateXValues(left_current_fit, ploty)\n",
    "    right_fitx = generateXValues(right_current_fit, ploty)\n",
    "    \n",
    "    if 0:\n",
    "        Left_Lane.out_img[left_lane_ally, left_lane_allx] = [255, 0, 0]\n",
    "        Right_Lane.out_img[right_lane_ally, right_lane_allx] = [0, 0, 255]    \n",
    "        out_img = np.zeros_like(Left_Lane.out_img)\n",
    "        out_img = Left_Lane.out_img | Right_Lane.out_img\n",
    "        plt.figure(figsize=(15, 10))\n",
    "        plt.imshow(out_img)\n",
    "        plt.plot(left_fitx, ploty, color='yellow')\n",
    "        plt.plot(right_fitx, ploty, color='yellow')\n",
    "        plt.xlim(0, 1280)\n",
    "        plt.ylim(720, 0)\n",
    "    \n",
    "    if(0 & (7 == frame_number)):\n",
    "        # Create an image to draw on and an image to show the selection window\n",
    "        out_img = np.dstack((lane_filter, lane_filter, lane_filter))*255\n",
    "        window_img = np.zeros_like(out_img)\n",
    "        margin = 50\n",
    "        # Color in left and right line pixels\n",
    "        out_img[left_lane_ally, left_lane_allx] = [255, 0, 0]\n",
    "        out_img[right_lane_ally, right_lane_allx] = [0, 0, 255]\n",
    "\n",
    "        # Generate a polygon to illustrate the search window area\n",
    "        # And recast the x and y points into usable format for cv2.fillPoly()\n",
    "        left_line_window1 = np.array([np.transpose(np.vstack([left_fitx-margin, ploty]))])\n",
    "        left_line_window2 = np.array([np.flipud(np.transpose(np.vstack([left_fitx+margin, \n",
    "                          ploty])))])\n",
    "        left_line_pts = np.hstack((left_line_window1, left_line_window2))\n",
    "        right_line_window1 = np.array([np.transpose(np.vstack([right_fitx-margin, ploty]))])\n",
    "        right_line_window2 = np.array([np.flipud(np.transpose(np.vstack([right_fitx+margin, \n",
    "                          ploty])))])\n",
    "        right_line_pts = np.hstack((right_line_window1, right_line_window2))\n",
    "\n",
    "        # Draw the lane onto the warped blank image\n",
    "        cv2.fillPoly(window_img, np.int_([left_line_pts]), (0,255, 0))\n",
    "        cv2.fillPoly(window_img, np.int_([right_line_pts]), (0,255, 0))\n",
    "        result = cv2.addWeighted(out_img, 1, window_img, 0.3, 0)\n",
    "        plt.figure(figsize=(15, 10))\n",
    "        plt.imshow(result)\n",
    "        plt.plot(left_fitx, ploty, color='yellow')\n",
    "        plt.plot(right_fitx, ploty, color='yellow')\n",
    "        plt.xlim(0, 1280)\n",
    "        plt.ylim(720, 0)\n",
    "    \n",
    "    # Compute radius of curvature\n",
    "    left_radius_of_curvature = findRadiusOfCurvature(ploty, left_fitx)\n",
    "    right_radius_of_curvature = findRadiusOfCurvature(ploty, right_fitx)    \n",
    "    \n",
    "    # Check for plausibility of lane width and radius of curvature for every frame\n",
    "    check_flag = sanityCheck(left_fitx, right_fitx, left_radius_of_curvature, \\\n",
    "                             right_radius_of_curvature)\n",
    "    \n",
    "    if(True == check_flag):\n",
    "        Left_Lane.updateLaneParameters(left_current_fit, ploty)\n",
    "        Right_Lane.updateLaneParameters(right_current_fit, ploty)\n",
    "        Left_Lane.not_detected_age = 0\n",
    "        Right_Lane.not_detected_age = 0\n",
    "    else:\n",
    "        Left_Lane.not_detected_age += 1\n",
    "        Right_Lane.not_detected_age += 1\n",
    "    \n",
    "    # If we see bad frames for consecutive n cycle, the lanes of next frame should be found from scratch\n",
    "    if(Left_Lane.not_detected_age > (Left_Lane.history_buffer_size-1)):\n",
    "        Left_Lane.find_lane = True\n",
    "    if(Right_Lane.not_detected_age > (Right_Lane.history_buffer_size-1)):\n",
    "        Right_Lane.find_lane = True\n",
    "        \n",
    "    # Find position of car from lane center\n",
    "    car_offset_from_center = findCarPosition(Left_Lane, Right_Lane)\n",
    "    \n",
    "    # Create an image to draw the lines on\n",
    "    warp_zero = np.zeros_like(lane_filter).astype(np.uint8)\n",
    "    color_warp = np.dstack((warp_zero, warp_zero, warp_zero))\n",
    "\n",
    "    # Recast the x and y points into usable format for cv2.fillPoly()\n",
    "    pts_left = np.array([np.transpose(np.vstack([Left_Lane.best_xfitted, ploty]))])\n",
    "    pts_right = np.array([np.flipud(np.transpose(np.vstack([Right_Lane.best_xfitted, ploty])))])\n",
    "    pts = np.hstack((pts_left, pts_right))\n",
    "\n",
    "    # Draw the lane onto the warped blank image\n",
    "    cv2.fillPoly(color_warp, np.int_([pts]), (0,255, 0))\n",
    "\n",
    "    # Warp the blank back to original image space using inverse perspective matrix (Minv)\n",
    "    newwarp = unwarpImage(color_warp, Minv, img_size)\n",
    "    # Combine the result with the original image\n",
    "    final_image = cv2.addWeighted(undist, 1, newwarp, 0.3, 0)\n",
    "    \n",
    "    # Print radius of curvature on video\n",
    "    cv2.putText(final_image, 'Curvature Radius Left:{}(m),'.format(int(Left_Lane.radius_of_curvature)), (80,140),\n",
    "             fontFace = 16, fontScale = 1.5, color=(255,255,255), thickness = 2)\n",
    "    cv2.putText(final_image, 'Right:{}(m)'.format(int(Right_Lane.radius_of_curvature)), (850,140),\n",
    "             fontFace = 16, fontScale = 1.5, color=(255,255,255), thickness = 2)\n",
    "    if(car_offset_from_center < 0):\n",
    "        cv2.putText(final_image, 'Car is {}(mm) to the right of center'.format(int(np.abs(car_offset_from_center)*1000)), (80,220),\n",
    "             fontFace = 16, fontScale = 1.5, color=(255,255,255), thickness = 2)\n",
    "    else:\n",
    "        cv2.putText(final_image, 'Car is {}(mm) to the left of center'.format(int(np.abs(car_offset_from_center)*1000)), (80,220),\n",
    "             fontFace = 16, fontScale = 1.5, color=(255,255,255), thickness = 2)\n",
    "        \n",
    "    if 0:\n",
    "        plt.figure(figsize=(15, 10))\n",
    "        plt.imshow(final_image)   \n",
    "    \n",
    "    return final_image"
   ]
  },
  {
   "cell_type": "code",
   "execution_count": 30,
   "metadata": {
    "collapsed": true
   },
   "outputs": [],
   "source": [
    "# Define a class to receive the characteristics of each line detection\n",
    "class Line():\n",
    "    def __init__(self):\n",
    "        self.find_lane = True\n",
    "        # was the line detected in the last iteration?\n",
    "        self.detected = False  \n",
    "        #size of history buffer\n",
    "        self.history_buffer_size = 10\n",
    "        # number of consecutive iterations for which the lane was not detected\n",
    "        self.not_detected_age = 0  \n",
    "        # x values for the best fit\n",
    "        self.best_xfitted = []\n",
    "        # x values of the last n fits of the line\n",
    "        self.recent_xfitted = [] \n",
    "        #average x values of the fitted line over the last n iterations\n",
    "        self.bestx = None     \n",
    "        #polynomial coefficients averaged over the last n iterations\n",
    "        self.best_fit = [0, 0, 0]  \n",
    "        #polynomial coefficients for the most recent good fit\n",
    "        self.good_fit = [[0,0,0] for i in range(self.history_buffer_size)]  \n",
    "        #radius of curvature of the line in some units\n",
    "        self.radius_of_curvature = None \n",
    "        #distance in meters of vehicle center from the line\n",
    "        self.line_base_pos = None \n",
    "        #difference in fit coefficients between last and new fits\n",
    "        self.diffs = np.array([0,0,0], dtype='float') \n",
    "        #x values for detected line pixels\n",
    "        self.allx = None  \n",
    "        #y values for detected line pixels\n",
    "        self.ally = None\n",
    "        #x values for detected line pixels\n",
    "        self.prev_allx = None  \n",
    "        #y values for detected line pixels\n",
    "        self.prev_ally = None\n",
    "        #number of iterations that passed sanity check\n",
    "        self.good_iteration = 0\n",
    "        #index of history buffer\n",
    "        self.history_buffer_index = 0\n",
    "        #frame number\n",
    "        self.frame_number = 0\n",
    "        #frame number\n",
    "        self.out_img = 0\n",
    "        return\n",
    "    \n",
    "    def findLane(self, binary_warped):\n",
    "        if(self.frame_number > first_n_frames):\n",
    "            self.find_lane = False\n",
    "        # Assuming you have created a warped binary image called \"binary_warped\"\n",
    "        # Take a histogram of the bottom half of the image\n",
    "        histogram = np.sum(binary_warped[binary_warped.shape[0]//2:,:], axis=0)\n",
    "        if 0:\n",
    "            plt.figure(figsize=(15, 10))\n",
    "            plt.imshow(binary_warped)\n",
    "            inverted_histogram = binary_warped.shape[0] - histogram\n",
    "            plt.plot(inverted_histogram, 'r', lw=5)\n",
    "        # Create an output image to draw on and  visualize the result\n",
    "        self.out_img = np.dstack((binary_warped, binary_warped, binary_warped))*255\n",
    "        #plt.imshow(out_img)\n",
    "        # Find the peak of the left and right halves of the histogram\n",
    "        # These will be the starting point for the left and right lines\n",
    "        midpoint = np.int(histogram.shape[0]/2)\n",
    "        #print(midpoint)\n",
    "        if self == Left_Lane:\n",
    "            x_base = np.argmax(histogram[:midpoint])\n",
    "        elif self == Right_Lane:\n",
    "            x_base = np.argmax(histogram[midpoint:]) + midpoint\n",
    "\n",
    "        # Choose the number of sliding windows\n",
    "        nwindows = 9\n",
    "        # Set height of windows\n",
    "        window_height = np.int(binary_warped.shape[0]/nwindows)\n",
    "        # Identify the x and y positions of all nonzero pixels in the image\n",
    "        nonzero = binary_warped.nonzero()\n",
    "        nonzeroy = np.array(nonzero[0])\n",
    "        nonzerox = np.array(nonzero[1])\n",
    "        # Current positions to be updated for each window\n",
    "        x_current = x_base\n",
    "        # Set the width of the windows +/- margin\n",
    "        margin = 50\n",
    "        # Set minimum number of pixels found to recenter window\n",
    "        minpix = 50\n",
    "        # Create empty lists to receive left and right lane pixel indices\n",
    "        lane_inds = []\n",
    "        # Step through the windows one by one\n",
    "        for window in range(nwindows):\n",
    "            # Identify window boundaries in x and y\n",
    "            win_y_low = binary_warped.shape[0] - (window+1)*window_height\n",
    "            win_y_high = binary_warped.shape[0] - window*window_height\n",
    "            win_x_low = x_current - margin\n",
    "            win_x_high = x_current + margin\n",
    "            # Draw the windows on the visualization image\n",
    "            cv2.rectangle(self.out_img,(win_x_low,win_y_low),(win_x_high,win_y_high),\n",
    "            (0,255,0), 2)\n",
    "            # Identify the nonzero pixels in x and y within the window\n",
    "            good_inds = ((nonzeroy >= win_y_low) & (nonzeroy < win_y_high) & \n",
    "            (nonzerox >= win_x_low) &  (nonzerox < win_x_high)).nonzero()[0]\n",
    "            # Append these indices to the lists\n",
    "            lane_inds.append(good_inds)\n",
    "            # If you found > minpix pixels, recenter next window on their mean position\n",
    "            if len(good_inds) > minpix:\n",
    "                x_current = np.int(np.mean(nonzerox[good_inds]))\n",
    "                \n",
    "        # Concatenate the arrays of indices\n",
    "        lane_inds = np.concatenate(lane_inds)\n",
    "        # Extract left and right line pixel positions\n",
    "        self.allx = nonzerox[lane_inds]\n",
    "        self.ally = nonzeroy[lane_inds]\n",
    "        return\n",
    "        \n",
    "    def estimateLane(self, binary_warped):\n",
    "        # Assume you now have a new warped binary image \n",
    "        # from the next frame of video (also called \"binary_warped\")\n",
    "        # It's now much easier to find line pixels!\n",
    "        nonzero = binary_warped.nonzero()\n",
    "        nonzeroy = np.array(nonzero[0])\n",
    "        nonzerox = np.array(nonzero[1])\n",
    "        margin = 50\n",
    "        fit_index = (self.history_buffer_index-1)%self.history_buffer_size\n",
    "        fit = self.good_fit[fit_index]\n",
    "        lane_inds = ((nonzerox > (fit[0]*(nonzeroy**2) + fit[1]*nonzeroy + fit[2] - margin)) & \n",
    "                     (nonzerox < (fit[0]*(nonzeroy**2) + fit[1]*nonzeroy + fit[2] + margin)))             \n",
    "        # Again, extract left and right line pixel positions\n",
    "        self.allx = nonzerox[lane_inds]\n",
    "        self.ally = nonzeroy[lane_inds]\n",
    "        return\n",
    "        \n",
    "    def averageLaneFit(self):\n",
    "        avg_fit = [0, 0, 0]\n",
    "        good_iteration = self.good_iteration\n",
    "        history_buffer_size = self.history_buffer_size\n",
    "        if(good_iteration < history_buffer_size):\n",
    "            buffer_size = good_iteration\n",
    "        else:\n",
    "            buffer_size = history_buffer_size\n",
    "        for index in range(buffer_size):\n",
    "            avg_fit = np.add(avg_fit, self.good_fit[index])\n",
    "        avg_fit = avg_fit/buffer_size\n",
    "        return avg_fit\n",
    "    \n",
    "    def updateLaneParameters(self, current_fit, ploty):\n",
    "        self.good_iteration += 1\n",
    "        self.good_fit[self.history_buffer_index] = current_fit\n",
    "        self.best_fit = self.averageLaneFit()\n",
    "        self.best_xfitted = generateXValues(self.best_fit, ploty)\n",
    "        self.radius_of_curvature = findRadiusOfCurvature(ploty, self.best_xfitted)\n",
    "        self.history_buffer_index = self.good_iteration % self.history_buffer_size\n",
    "        return\n",
    "        "
   ]
  },
  {
   "cell_type": "code",
   "execution_count": 13,
   "metadata": {
    "collapsed": true
   },
   "outputs": [],
   "source": [
    "def process_image(image):\n",
    "    # NOTE: The output you return should be a color image (3 channel) for processing video below\n",
    "    # TODO: put your pipeline here,\n",
    "    # you should return the final output (image where lines are drawn on lanes)\n",
    "    \n",
    "    result = pipeline(image)\n",
    "\n",
    "    return result"
   ]
  },
  {
   "cell_type": "markdown",
   "metadata": {},
   "source": [
    "## Test pipeline on an image\n"
   ]
  },
  {
   "cell_type": "code",
   "execution_count": 41,
   "metadata": {
    "scrolled": false
   },
   "outputs": [
    {
     "data": {
      "text/plain": [
       "array([[[ 84, 138, 185],\n",
       "        [ 85, 139, 186],\n",
       "        [ 85, 139, 186],\n",
       "        ..., \n",
       "        [ 72, 130, 178],\n",
       "        [ 73, 131, 179],\n",
       "        [ 74, 132, 180]],\n",
       "\n",
       "       [[ 85, 137, 185],\n",
       "        [ 86, 138, 186],\n",
       "        [ 86, 138, 186],\n",
       "        ..., \n",
       "        [ 72, 130, 178],\n",
       "        [ 73, 131, 179],\n",
       "        [ 74, 132, 180]],\n",
       "\n",
       "       [[ 85, 137, 185],\n",
       "        [ 85, 137, 185],\n",
       "        [ 86, 138, 186],\n",
       "        ..., \n",
       "        [ 73, 131, 177],\n",
       "        [ 73, 131, 178],\n",
       "        [ 73, 131, 177]],\n",
       "\n",
       "       ..., \n",
       "       [[ 95,  83,  99],\n",
       "        [ 95,  83,  99],\n",
       "        [ 96,  83,  99],\n",
       "        ..., \n",
       "        [118,  97,  93],\n",
       "        [116,  96,  91],\n",
       "        [114,  94,  90]],\n",
       "\n",
       "       [[ 96,  84,  98],\n",
       "        [ 96,  84,  98],\n",
       "        [ 96,  84,  98],\n",
       "        ..., \n",
       "        [116,  95,  90],\n",
       "        [118,  97,  92],\n",
       "        [116,  95,  90]],\n",
       "\n",
       "       [[ 96,  84,  96],\n",
       "        [ 96,  84,  96],\n",
       "        [ 97,  85,  97],\n",
       "        ..., \n",
       "        [115,  94,  91],\n",
       "        [117,  96,  92],\n",
       "        [116,  95,  91]]], dtype=uint8)"
      ]
     },
     "execution_count": 41,
     "metadata": {},
     "output_type": "execute_result"
    },
    {
     "data": {
      "image/png": "[encoded data removed]",
      "text/plain": [
       "<matplotlib.figure.Figure at 0x9b29550>"
      ]
     },
     "metadata": {},
     "output_type": "display_data"
    },
    {
     "data": {
      "image/png": "[encoded data removed]",
      "text/plain": [
       "<matplotlib.figure.Figure at 0xaa7be10>"
      ]
     },
     "metadata": {},
     "output_type": "display_data"
    }
   ],
   "source": [
    "frame_number = 0\n",
    "Left_Lane = Line()\n",
    "Right_Lane = Line()\n",
    "image = mpimg.imread('test_images/straight_lines1.jpg')\n",
    "#image = mpimg.imread('test_images/test6.jpg')\n",
    "process_image(image)\n",
    "#process_image(image)\n",
    "#process_image(image)\n",
    "#process_image(image)\n",
    "#process_image(image)\n",
    "#process_image(image)"
   ]
  },
  {
   "cell_type": "markdown",
   "metadata": {},
   "source": [
    "## Test pipeline on video"
   ]
  },
  {
   "cell_type": "code",
   "execution_count": 15,
   "metadata": {
    "collapsed": true
   },
   "outputs": [],
   "source": [
    "# Import everything needed to edit/save/watch video clips\n",
    "from moviepy.editor import VideoFileClip\n",
    "from IPython.display import HTML"
   ]
  },
  {
   "cell_type": "code",
   "execution_count": 16,
   "metadata": {},
   "outputs": [
    {
     "name": "stdout",
     "output_type": "stream",
     "text": [
      "[MoviePy] >>>> Building video project_video_output.mp4\n",
      "[MoviePy] Writing video project_video_output.mp4\n"
     ]
    },
    {
     "name": "stderr",
     "output_type": "stream",
     "text": [
      "100%|███████████████████████████████████████████████████████████████████████████████████████████████████████████████████▉| 1260/1261 [02:35<00:00,  8.67it/s]\n"
     ]
    },
    {
     "name": "stdout",
     "output_type": "stream",
     "text": [
      "[MoviePy] Done.\n",
      "[MoviePy] >>>> Video ready: project_video_output.mp4 \n",
      "\n",
      "Wall time: 2min 37s\n"
     ]
    }
   ],
   "source": [
    "video_output = 'project_video_output.mp4'\n",
    "#video_output = 'challenge_video_output.mp4'\n",
    "#video_output = 'harder_challenge_video_output.mp4'\n",
    "\n",
    "\n",
    "frame_number = 0\n",
    "Left_Lane = Line()\n",
    "Right_Lane = Line()\n",
    "## To speed up the testing process you may want to try your pipeline on a shorter subclip of the video\n",
    "## To do so add .subclip(start_second,end_second) to the end of the line below\n",
    "## Where start_second and end_second are integer values representing the start and end of the subclip\n",
    "## You may also uncomment the following line for a subclip of the first 5 seconds\n",
    "#clip1 = VideoFileClip(\"project_video.mp4\").subclip(0,1)\n",
    "#clip1 = VideoFileClip(\"project_video.mp4\").subclip(26,27)\n",
    "clip1 = VideoFileClip(\"project_video.mp4\")\n",
    "#clip1 = VideoFileClip(\"challenge_video.mp4\")\n",
    "#clip1 = VideoFileClip(\"harder_challenge_video.mp4\")\n",
    "video_frame = clip1.fl_image(process_image) #NOTE: this function expects color images!!\n",
    "%time video_frame.write_videofile(video_output, audio=False)"
   ]
  },
  {
   "cell_type": "markdown",
   "metadata": {},
   "source": [
    "Play the video inline, or if you prefer find the video in your filesystem (should be in the same directory) and play it in your video player of choice."
   ]
  },
  {
   "cell_type": "code",
   "execution_count": 17,
   "metadata": {
    "scrolled": false
   },
   "outputs": [
    {
     "data": {
      "text/html": [
       "\n",
       "<video width=\"960\" height=\"540\" controls>\n",
       "  <source src=\"project_video_output.mp4\">\n",
       "</video>\n"
      ],
      "text/plain": [
       "<IPython.core.display.HTML object>"
      ]
     },
     "execution_count": 17,
     "metadata": {},
     "output_type": "execute_result"
    }
   ],
   "source": [
    "HTML(\"\"\"\n",
    "<video width=\"960\" height=\"540\" controls>\n",
    "  <source src=\"{0}\">\n",
    "</video>\n",
    "\"\"\".format(video_output))"
   ]
  },
  {
   "cell_type": "code",
   "execution_count": null,
   "metadata": {
    "collapsed": true
   },
   "outputs": [],
   "source": []
  }
 ],
 "metadata": {
  "anaconda-cloud": {},
  "kernelspec": {
   "display_name": "Python 3",
   "language": "python",
   "name": "python3"
  },
  "language_info": {
   "codemirror_mode": {
    "name": "ipython",
    "version": 3
   },
   "file_extension": ".py",
   "mimetype": "text/x-python",
   "name": "python",
   "nbconvert_exporter": "python",
   "pygments_lexer": "ipython3",
   "version": "3.5.2"
  },
  "widgets": {
   "state": {},
   "version": "1.1.2"
  }
 },
 "nbformat": 4,
 "nbformat_minor": 1
}
