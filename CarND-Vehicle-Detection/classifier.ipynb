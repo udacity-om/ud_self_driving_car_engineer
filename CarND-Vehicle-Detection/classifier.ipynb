{
 "cells": [
  {
   "cell_type": "markdown",
   "metadata": {},
   "source": [
    "# Self-Driving Car Engineer Nanodegree\n",
    "\n",
    "\n",
    "## Project: **Vehicle Detection and Tracking : Classifier** "
   ]
  },
  {
   "cell_type": "markdown",
   "metadata": {},
   "source": [
    "## Import Packages"
   ]
  },
  {
   "cell_type": "code",
   "execution_count": 1,
   "metadata": {},
   "outputs": [
    {
     "name": "stderr",
     "output_type": "stream",
     "text": [
      "C:\\Anaconda\\Anaconda3\\envs\\carnd-term1\\lib\\site-packages\\sklearn\\cross_validation.py:41: DeprecationWarning: This module was deprecated in version 0.18 in favor of the model_selection module into which all the refactored classes and functions are moved. Also note that the interface of the new CV iterators are different from that of this module. This module will be removed in 0.20.\n",
      "  \"This module will be removed in 0.20.\", DeprecationWarning)\n",
      "C:\\Anaconda\\Anaconda3\\envs\\carnd-term1\\lib\\site-packages\\sklearn\\grid_search.py:42: DeprecationWarning: This module was deprecated in version 0.18 in favor of the model_selection module into which all the refactored classes and functions are moved. This module will be removed in 0.20.\n",
      "  DeprecationWarning)\n"
     ]
    }
   ],
   "source": [
    "#importing some useful packages\n",
    "from glob import glob\n",
    "import random\n",
    "import matplotlib.image as mpimg\n",
    "import matplotlib.pyplot as plt\n",
    "import cv2\n",
    "import time\n",
    "import numpy as np\n",
    "from sklearn.preprocessing import StandardScaler\n",
    "from sklearn.model_selection import train_test_split\n",
    "from sklearn import svm, grid_search\n",
    "import pickle\n",
    "\n",
    "from helper_functions import get_hog_features, extract_features\n",
    "\n",
    "%matplotlib inline"
   ]
  },
  {
   "cell_type": "markdown",
   "metadata": {},
   "source": [
    "## Data Exploration"
   ]
  },
  {
   "cell_type": "code",
   "execution_count": 2,
   "metadata": {},
   "outputs": [
    {
     "name": "stdout",
     "output_type": "stream",
     "text": [
      "Number of car images: 8792\n",
      "Number of non-car images: 8968\n"
     ]
    }
   ],
   "source": [
    "# Read both car and non-car images\n",
    "car_images = glob('vehicles/*/*.png')\n",
    "non_car_images = glob('non-vehicles/*/*.png')\n",
    "print('Number of car images:', len(car_images))\n",
    "print('Number of non-car images:', len(non_car_images))"
   ]
  },
  {
   "cell_type": "markdown",
   "metadata": {},
   "source": [
    "## Visualize Color Space\n",
    "\n"
   ]
  },
  {
   "cell_type": "code",
   "execution_count": null,
   "metadata": {
    "collapsed": true
   },
   "outputs": [],
   "source": [
    "# Select a random car image \n",
    "random.seed(1511)\n",
    "random_index = int(random.random()*len(car_images))\n",
    "random_car_image_path = car_images[random_index]\n",
    "random_car_image = mpimg.imread(random_car_image_path)\n",
    "\n",
    "# Convert to all color space\n",
    "random_car_image_gray = cv2.cvtColor(random_car_image, cv2.COLOR_RGB2GRAY)\n",
    "random_car_image_hsv = cv2.cvtColor(random_car_image, cv2.COLOR_RGB2HSV)\n",
    "random_car_image_luv = cv2.cvtColor(random_car_image, cv2.COLOR_RGB2LUV)\n",
    "random_car_image_hls = cv2.cvtColor(random_car_image, cv2.COLOR_RGB2HLS)\n",
    "random_car_image_yuv = cv2.cvtColor(random_car_image, cv2.COLOR_RGB2YUV)\n",
    "random_car_image_ycrcb = cv2.cvtColor(random_car_image, cv2.COLOR_RGB2YCrCb)\n",
    "\n",
    "plt.imshow(random_car_image)\n",
    "\n",
    "fig = plt.figure(figsize=(15, 8))\n",
    "plt.subplot(2,3,1)\n",
    "plt.imshow(random_car_image_gray)\n",
    "plt.title('Gray')\n",
    "plt.subplot(2,3,2)\n",
    "plt.imshow(random_car_image_hsv[:,:,2])\n",
    "plt.title('HSV_V')\n",
    "plt.subplot(2,3,3)\n",
    "plt.imshow(random_car_image_luv[:,:,0])\n",
    "plt.title('LUV_L')\n",
    "plt.subplot(2,3,4)\n",
    "plt.imshow(random_car_image_hls[:,:,1])\n",
    "plt.title('HLS_L')\n",
    "plt.subplot(2,3,5)\n",
    "plt.imshow(random_car_image_yuv[:,:,0])\n",
    "plt.title('YUV_Y')\n",
    "plt.subplot(2,3,6)\n",
    "plt.imshow(random_car_image_ycrcb[:,:,0])\n",
    "plt.title('YCrCb_Y')"
   ]
  },
  {
   "cell_type": "code",
   "execution_count": null,
   "metadata": {
    "collapsed": true
   },
   "outputs": [],
   "source": [
    "# Select a random non-car image\n",
    "random_non_car_image_path = non_car_images[random_index]\n",
    "random_non_car_image = mpimg.imread(random_non_car_image_path)\n",
    "random_non_car_image_gray = cv2.cvtColor(random_non_car_image, cv2.COLOR_RGB2GRAY)\n",
    "\n",
    "fig = plt.figure(figsize=(15, 8))\n",
    "plt.subplot(2,2,1)\n",
    "plt.imshow(random_car_image)\n",
    "plt.title('Car Image')\n",
    "plt.subplot(2,2,2)\n",
    "plt.imshow(random_car_image_gray)\n",
    "plt.title('Car Image Gray')\n",
    "plt.subplot(2,2,3)\n",
    "plt.imshow(random_non_car_image)\n",
    "plt.title('Non Car Image')\n",
    "plt.subplot(2,2,4)\n",
    "plt.imshow(random_non_car_image_gray)\n",
    "plt.title('Non Car Image Gray')\n",
    "plt.tight_layout()"
   ]
  },
  {
   "cell_type": "markdown",
   "metadata": {},
   "source": [
    "## Visualize Histogram of Oriented Gradient (HOG)\n",
    "\n"
   ]
  },
  {
   "cell_type": "code",
   "execution_count": null,
   "metadata": {
    "collapsed": true
   },
   "outputs": [],
   "source": [
    "# Set HOG parameters\n",
    "orient = 10\n",
    "pix_per_cell = 8\n",
    "cell_per_block = 2\n",
    "\n",
    "# Get HOG features\n",
    "features_random_car_image_gray, hog_random_car_image_gray = get_hog_features(random_car_image_gray, orient, pix_per_cell, cell_per_block, vis=True, feature_vec=False)\n",
    "features_random_car_image_hsv_v, hog_random_car_image_hsv_v = get_hog_features(random_car_image_hsv[:,:,2], orient, pix_per_cell, cell_per_block, vis=True, feature_vec=False)\n",
    "features_random_car_image_luv_l, hog_random_car_image_luv_l = get_hog_features(random_car_image_luv[:,:,0], orient, pix_per_cell, cell_per_block, vis=True, feature_vec=False)\n",
    "features_random_car_image_hls_l, hog_random_car_image_hls_l = get_hog_features(random_car_image_hls[:,:,1], orient, pix_per_cell, cell_per_block, vis=True, feature_vec=False)\n",
    "features_random_car_image_yuv_y, hog_random_car_image_yuv_y = get_hog_features(random_car_image_yuv[:,:,0], orient, pix_per_cell, cell_per_block, vis=True, feature_vec=False)\n",
    "features_random_car_image_ycrcb_y, hog_random_car_image_ycrcb_y = get_hog_features(random_car_image_ycrcb[:,:,0], orient, pix_per_cell, cell_per_block, vis=True, feature_vec=False)\n",
    "\n",
    "plt.imshow(random_car_image)\n",
    "\n",
    "fig = plt.figure(figsize=(15, 8))\n",
    "plt.subplot(2,3,1)\n",
    "plt.imshow(hog_random_car_image_gray)\n",
    "plt.title('Gray HOG')\n",
    "plt.subplot(2,3,2)\n",
    "plt.imshow(hog_random_car_image_hsv_v)\n",
    "plt.title('HSV_V HOG')\n",
    "plt.subplot(2,3,3)\n",
    "plt.imshow(hog_random_car_image_luv_l)\n",
    "plt.title('LUV_L HOG')\n",
    "plt.subplot(2,3,4)\n",
    "plt.imshow(hog_random_car_image_hls_l)\n",
    "plt.title('HLS_L HOG')\n",
    "plt.subplot(2,3,5)\n",
    "plt.imshow(hog_random_car_image_yuv_y)\n",
    "plt.title('YUV_Y HOG')\n",
    "plt.subplot(2,3,6)\n",
    "plt.imshow(hog_random_car_image_ycrcb_y)\n",
    "plt.title('YCrCb_Y HOG')"
   ]
  },
  {
   "cell_type": "code",
   "execution_count": null,
   "metadata": {
    "collapsed": true
   },
   "outputs": [],
   "source": [
    "# Experiment with different orient\n",
    "hog_feature_1, hog_image_1 = get_hog_features(random_car_image_gray, 5, pix_per_cell, cell_per_block, vis=True, feature_vec=False)\n",
    "hog_feature_2, hog_image_2 = get_hog_features(random_car_image_gray, 10, pix_per_cell, cell_per_block, vis=True, feature_vec=False)\n",
    "hog_feature_3, hog_image_3 = get_hog_features(random_car_image_gray, 15, pix_per_cell, cell_per_block, vis=True, feature_vec=False)\n",
    "hog_feature_4, hog_image_4 = get_hog_features(random_car_image_gray, 20, pix_per_cell, cell_per_block, vis=True, feature_vec=False)\n",
    "hog_feature_5, hog_image_5 = get_hog_features(random_car_image_gray, 25, pix_per_cell, cell_per_block, vis=True, feature_vec=False)\n",
    "hog_feature_6, hog_image_6 = get_hog_features(random_car_image_gray, 30, pix_per_cell, cell_per_block, vis=True, feature_vec=False)\n",
    "\n",
    "fig = plt.figure(figsize=(15, 8))\n",
    "plt.subplot(2,3,1)\n",
    "plt.imshow(hog_image_1)\n",
    "plt.title('Orientation 5')\n",
    "plt.subplot(2,3,2)\n",
    "plt.imshow(hog_image_2)\n",
    "plt.title('Orientation 10')\n",
    "plt.subplot(2,3,3)\n",
    "plt.imshow(hog_image_3)\n",
    "plt.title('Orientation 15')\n",
    "plt.subplot(2,3,4)\n",
    "plt.imshow(hog_image_4)\n",
    "plt.title('Orientation 20')\n",
    "plt.subplot(2,3,5)\n",
    "plt.imshow(hog_image_5)\n",
    "plt.title('Orientation 25')\n",
    "plt.subplot(2,3,6)\n",
    "plt.imshow(hog_image_6)\n",
    "plt.title('Orientation 30')"
   ]
  },
  {
   "cell_type": "code",
   "execution_count": null,
   "metadata": {
    "collapsed": true
   },
   "outputs": [],
   "source": [
    "features_random_non_car_image_gray, hog_random_non_car_image_gray = get_hog_features(random_non_car_image_gray, orient, pix_per_cell, cell_per_block, vis=True, feature_vec=False)\n",
    "\n",
    "fig = plt.figure(figsize=(15, 8))\n",
    "plt.subplot(2,2,1)\n",
    "plt.imshow(random_car_image)\n",
    "plt.title('Car Image')\n",
    "plt.subplot(2,2,2)\n",
    "plt.imshow(hog_random_car_image_gray)\n",
    "plt.title('Car Image Gray HOG')\n",
    "plt.subplot(2,2,3)\n",
    "plt.imshow(random_non_car_image)\n",
    "plt.title('Non Car Image')\n",
    "plt.subplot(2,2,4)\n",
    "plt.imshow(hog_random_non_car_image_gray)\n",
    "plt.title('Non Car Image Gray HOG')"
   ]
  },
  {
   "cell_type": "markdown",
   "metadata": {},
   "source": [
    "## Extracting Features\n",
    "\n"
   ]
  },
  {
   "cell_type": "code",
   "execution_count": 4,
   "metadata": {},
   "outputs": [
    {
     "name": "stderr",
     "output_type": "stream",
     "text": [
      "C:\\Anaconda\\Anaconda3\\envs\\carnd-term1\\lib\\site-packages\\skimage\\feature\\_hog.py:119: skimage_deprecation: Default value of `block_norm`==`L1` is deprecated and will be changed to `L2-Hys` in v0.15\n",
      "  'be changed to `L2-Hys` in v0.15', skimage_deprecation)\n"
     ]
    },
    {
     "name": "stdout",
     "output_type": "stream",
     "text": [
      "340.09 Seconds to extract features...\n",
      "Using spatial binning of: 32\n",
      "Using: 10 orientations 8 pixels per cell and 2 cells per block.\n"
     ]
    }
   ],
   "source": [
    "color_space = 'YCrCb'\n",
    "spatial_size = (32, 32)\n",
    "orient = 10\n",
    "pix_per_cell = 8\n",
    "cell_per_block = 2\n",
    "hog_channel = 'ALL'\n",
    "\n",
    "t=time.time()\n",
    "car_features = extract_features(car_images, cspace=color_space, spatial_size=spatial_size, \n",
    "                                orient=orient, pix_per_cell=pix_per_cell, cell_per_block=cell_per_block, hog_channel = hog_channel)\n",
    "\n",
    "non_car_features = extract_features(non_car_images, cspace=color_space, spatial_size=spatial_size, \n",
    "                                orient=orient, pix_per_cell=pix_per_cell, cell_per_block=cell_per_block, hog_channel = hog_channel)\n",
    "t2 = time.time()\n",
    "print(round(t2-t, 2), 'Seconds to extract features...')\n",
    "\n",
    "print('Using spatial binning of:',spatial_size[0])\n",
    "print('Using:', orient, 'orientations', pix_per_cell, 'pixels per cell and', cell_per_block, 'cells per block.')"
   ]
  },
  {
   "cell_type": "markdown",
   "metadata": {},
   "source": [
    "## Splitting Data Into Training And Testing Set\n",
    "\n"
   ]
  },
  {
   "cell_type": "code",
   "execution_count": null,
   "metadata": {},
   "outputs": [],
   "source": [
    "# Create an array stack, NOTE: StandardScaler() expects np.float64\n",
    "X = np.vstack((car_features, non_car_features)).astype(np.float64)\n",
    "# Fit a per-column scaler\n",
    "X_scaler = StandardScaler().fit(X)\n",
    "# Apply the scaler to X\n",
    "scaled_X = X_scaler.transform(X)\n",
    "\n",
    "# Create labels vector\n",
    "y = np.hstack((np.ones(len(car_features)), np.zeros(len(non_car_features))))\n",
    "# Split up data into training and test sets\n",
    "rand_state = np.random.randint(0, 100)\n",
    "X_train, X_test, y_train, y_test = train_test_split(scaled_X, y, test_size=0.2, random_state=rand_state)\n",
    "\n",
    "\n",
    "print('Feature vector length:', len(X_train[0]))"
   ]
  },
  {
   "cell_type": "markdown",
   "metadata": {},
   "source": [
    "## Classifier Parameter Tuning\n"
   ]
  },
  {
   "cell_type": "code",
   "execution_count": null,
   "metadata": {},
   "outputs": [],
   "source": [
    "parameters = {'kernel':('linear', 'poly', 'rbf', 'sigmoid'), 'C':[1, 5, 10, 15]}\n",
    "svr = svm.SVC()\n",
    "clf = grid_search.GridSearchCV(svr, parameters)\n",
    "clf.fit(X_train, y_train)"
   ]
  },
  {
   "cell_type": "code",
   "execution_count": null,
   "metadata": {},
   "outputs": [],
   "source": [
    "print(clf.best_params_)\n",
    "print(clf.grid_scores_)"
   ]
  },
  {
   "cell_type": "markdown",
   "metadata": {},
   "source": [
    "## Best Classifier\n"
   ]
  },
  {
   "cell_type": "code",
   "execution_count": null,
   "metadata": {
    "collapsed": true
   },
   "outputs": [],
   "source": [
    "clf = svm.SVC(C = 5, kernel = 'rbf')\n",
    "clf.fit(X_train, y_train)"
   ]
  },
  {
   "cell_type": "markdown",
   "metadata": {},
   "source": [
    "## Classifier Score\n"
   ]
  },
  {
   "cell_type": "code",
   "execution_count": null,
   "metadata": {},
   "outputs": [],
   "source": [
    "t=time.time()\n",
    "# Check the score of the SVC\n",
    "print('Test Accuracy of SVC = ', clf.score(X_test, y_test))\n",
    "t2 = time.time()\n",
    "print(round(t2-t, 5), 'seconds to compute the test accuracy.')"
   ]
  },
  {
   "cell_type": "markdown",
   "metadata": {},
   "source": [
    "## Save Classifier Parameters\n"
   ]
  },
  {
   "cell_type": "code",
   "execution_count": null,
   "metadata": {
    "collapsed": true
   },
   "outputs": [],
   "source": [
    "classifier_params={\n",
    "    'svc': clf,\n",
    "    'X_scaler': X_scaler,\n",
    "    'color_space': color_space,\n",
    "    'orient': orient,\n",
    "    'pix_per_cell': pix_per_cell,\n",
    "    'cell_per_block': cell_per_block,\n",
    "    'spatial_size' : spatial_size\n",
    "     }\n",
    "\n",
    "pickle.dump(classifier_params, open(\"classifier_params.pkl\", \"wb\"))"
   ]
  }
 ],
 "metadata": {
  "anaconda-cloud": {},
  "kernelspec": {
   "display_name": "Python 3",
   "language": "python",
   "name": "python3"
  },
  "language_info": {
   "codemirror_mode": {
    "name": "ipython",
    "version": 3
   },
   "file_extension": ".py",
   "mimetype": "text/x-python",
   "name": "python",
   "nbconvert_exporter": "python",
   "pygments_lexer": "ipython3",
   "version": "3.5.2"
  },
  "widgets": {
   "state": {},
   "version": "1.1.2"
  }
 },
 "nbformat": 4,
 "nbformat_minor": 1
}
