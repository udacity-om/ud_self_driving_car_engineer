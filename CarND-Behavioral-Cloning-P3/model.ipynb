{
 "cells": [
  {
   "cell_type": "code",
   "execution_count": 1,
   "metadata": {},
   "outputs": [
    {
     "name": "stderr",
     "output_type": "stream",
     "text": [
      "Using TensorFlow backend.\n"
     ]
    }
   ],
   "source": [
    "import csv\n",
    "import numpy as np\n",
    "import cv2\n",
    "from keras.models import Sequential\n",
    "from keras.layers import Flatten, Dense, Lambda, Activation, Convolution2D, MaxPooling2D, Cropping2D\n",
    "import matplotlib.pyplot as plt\n",
    "\n",
    "# Plot inline\n",
    "%matplotlib inline"
   ]
  },
  {
   "cell_type": "code",
   "execution_count": 2,
   "metadata": {
    "collapsed": true
   },
   "outputs": [],
   "source": [
    "batch_size = 32\n",
    "data_path = 'data'\n",
    "img_folder = 'IMG'\n",
    "csv_file_name = 'driving_log.csv'"
   ]
  },
  {
   "cell_type": "code",
   "execution_count": 3,
   "metadata": {},
   "outputs": [
    {
     "name": "stdout",
     "output_type": "stream",
     "text": [
      "data/driving_log.csv data/IMG\n"
     ]
    }
   ],
   "source": [
    "# Read in data\n",
    "samples = []\n",
    "csv_full_path = data_path + '/'+ csv_file_name\n",
    "img_path = data_path + '/' + img_folder\n",
    "print(csv_full_path, img_path)"
   ]
  },
  {
   "cell_type": "code",
   "execution_count": 4,
   "metadata": {},
   "outputs": [],
   "source": [
    "with open(csv_full_path) as csvfile:\n",
    "    reader = csv.reader(csvfile)\n",
    "    for line in reader:\n",
    "        samples.append(line)"
   ]
  },
  {
   "cell_type": "code",
   "execution_count": 5,
   "metadata": {},
   "outputs": [
    {
     "data": {
      "text/plain": [
       "['center', 'left', 'right', 'steering', 'throttle', 'brake', 'speed']"
      ]
     },
     "execution_count": 5,
     "metadata": {},
     "output_type": "execute_result"
    }
   ],
   "source": [
    "samples[0]"
   ]
  },
  {
   "cell_type": "code",
   "execution_count": 6,
   "metadata": {},
   "outputs": [
    {
     "data": {
      "text/plain": [
       "['IMG\\\\center_2016_12_01_13_30_48_287.jpg',\n",
       " 'IMG\\\\left_2016_12_01_13_30_48_287.jpg',\n",
       " 'IMG\\\\right_2016_12_01_13_30_48_287.jpg',\n",
       " '0.0',\n",
       " '0.0',\n",
       " '0.0',\n",
       " '22.14829']"
      ]
     },
     "execution_count": 6,
     "metadata": {},
     "output_type": "execute_result"
    }
   ],
   "source": [
    "del samples[0]\n",
    "samples[0]"
   ]
  },
  {
   "cell_type": "code",
   "execution_count": 7,
   "metadata": {},
   "outputs": [],
   "source": [
    "from sklearn.model_selection import train_test_split\n",
    "train_samples, validation_samples = train_test_split(samples, test_size=0.2)"
   ]
  },
  {
   "cell_type": "code",
   "execution_count": 8,
   "metadata": {},
   "outputs": [],
   "source": [
    "crop_top = 60\n",
    "crop_bottom = 130\n",
    "crop_left = 0\n",
    "crop_right = 320"
   ]
  },
  {
   "cell_type": "code",
   "execution_count": 9,
   "metadata": {},
   "outputs": [],
   "source": [
    "#name = data_path + '/' + samples[10][0].split('/')[-1]\n",
    "#print(name)\n",
    "#center_image = cv2.imread(name)\n",
    "#plt.imshow(center_image)\n",
    "#print(center_image.shape)"
   ]
  },
  {
   "cell_type": "code",
   "execution_count": 10,
   "metadata": {},
   "outputs": [],
   "source": [
    "#cropped_image = center_image[crop_top:crop_bottom, crop_left:crop_right]\n",
    "#plt.imshow(cropped_image)\n",
    "#print(cropped_image.shape)"
   ]
  },
  {
   "cell_type": "code",
   "execution_count": 11,
   "metadata": {},
   "outputs": [],
   "source": [
    "#r = 64.0 / cropped_image.shape[1]\n",
    "#dim = (64, int(center_image.shape[0] * r))\n",
    "#dim = (64, 64)\n",
    "\n",
    "# perform the actual resizing of the image and show it\n",
    "#resized = cv2.resize(cropped_image, dim, interpolation = cv2.INTER_AREA)\n",
    "#plt.imshow(resized)\n",
    "#print(resized.shape)"
   ]
  },
  {
   "cell_type": "code",
   "execution_count": 12,
   "metadata": {
    "collapsed": true
   },
   "outputs": [],
   "source": [
    "from sklearn.utils import shuffle\n",
    "correction_factor = 0.2\n",
    "\n",
    "def generator(samples, batch_size=32):\n",
    "    N = (len(samples)//batch_size)*batch_size  # make the number of samples a multiple of batch_size\n",
    "\n",
    "    X_batch = np.zeros((batch_size, 64, 64, 3), dtype=np.float32)\n",
    "    y_batch = np.zeros((batch_size,), dtype=np.float32)    \n",
    "    \n",
    "    while 1: # Loop forever so the generator never terminates\n",
    "        shuffle(samples)\n",
    "        for offset in range(0, N, batch_size):\n",
    "            batch_samples = samples[offset:offset+batch_size]\n",
    "\n",
    "            for j,batch_sample in enumerate(batch_samples):\n",
    "                img_pos_choice = np.random.choice([0,1,2])\n",
    "                name = data_path + '/'+ batch_sample[img_pos_choice].split('/')[-1]\n",
    "                #print(name)\n",
    "                image = cv2.imread(name) # reads BGR format\n",
    "                image = cv2.cvtColor(image, cv2.COLOR_BGR2RGB) # To RGB format\n",
    "                cropped_image = image[crop_top:crop_bottom, crop_left:crop_right]\n",
    "                resized_image = cv2.resize(cropped_image, (64,64))\n",
    "\n",
    "                if img_pos_choice == 0:\n",
    "                    angle = float(batch_sample[3])\n",
    "\n",
    "                if img_pos_choice == 1:\n",
    "                    angle = float(batch_sample[3]) + correction_factor\n",
    "\n",
    "                if img_pos_choice == 2: \n",
    "                    angle = float(batch_sample[3]) - 0.25\n",
    "                \n",
    "                # decide whether to horizontally flip the image:\n",
    "                flip_prob = np.random.random()\n",
    "                if flip_prob > 0.5:\n",
    "                    # flip the image and reverse the steering angle\n",
    "                    angle = -1*angle\n",
    "                    resized_image = cv2.flip(resized_image, 1)\n",
    "\n",
    "                X_batch[j] = resized_image\n",
    "                y_batch[j] = angle\n",
    "\n",
    "            yield X_batch, y_batch"
   ]
  },
  {
   "cell_type": "code",
   "execution_count": 13,
   "metadata": {
    "collapsed": true
   },
   "outputs": [],
   "source": [
    "# compile and train the model using the generator function\n",
    "train_generator = generator(train_samples, batch_size=batch_size)\n",
    "validation_generator = generator(validation_samples, batch_size=batch_size)"
   ]
  },
  {
   "cell_type": "code",
   "execution_count": 14,
   "metadata": {
    "collapsed": true
   },
   "outputs": [],
   "source": [
    "filter1_kernel_size = 5\n",
    "filter2_kernel_size = 3\n",
    "image_shape = (64, 64, 3)"
   ]
  },
  {
   "cell_type": "code",
   "execution_count": 15,
   "metadata": {},
   "outputs": [
    {
     "name": "stdout",
     "output_type": "stream",
     "text": [
      "Epoch 1/5\n",
      "14432/14432 [==============================] - 503s - loss: 0.0244 - val_loss: 0.0214\n",
      "Epoch 2/5\n",
      "14432/14432 [==============================] - 417s - loss: 0.0213 - val_loss: 0.0202\n",
      "Epoch 3/5\n",
      "14432/14432 [==============================] - 476s - loss: 0.0200 - val_loss: 0.0193\n",
      "Epoch 4/5\n",
      "14432/14432 [==============================] - 413s - loss: 0.0194 - val_loss: 0.0187\n",
      "Epoch 5/5\n",
      "14432/14432 [==============================] - 325s - loss: 0.0187 - val_loss: 0.0183\n",
      "dict_keys(['loss', 'val_loss'])\n"
     ]
    },
    {
     "data": {
      "image/png": "[encoded data removed]",
      "text/plain": [
       "<matplotlib.figure.Figure at 0xd2cfb00>"
      ]
     },
     "metadata": {},
     "output_type": "display_data"
    }
   ],
   "source": [
    "# Initialize the model\n",
    "model = Sequential()\n",
    "# Pre-processing: Normalizing and mean centered\n",
    "model.add(Lambda(lambda x: (x / 255.0) - 0.5, input_shape = image_shape))\n",
    "model.add(Convolution2D(nb_filter = 6, nb_row = filter1_kernel_size, nb_col = filter1_kernel_size, activation = \"relu\"))\n",
    "model.add(MaxPooling2D())\n",
    "model.add(Convolution2D(nb_filter = 6, nb_row = filter1_kernel_size, nb_col = filter1_kernel_size, activation = \"relu\"))\n",
    "model.add(MaxPooling2D())\n",
    "model.add(Flatten())\n",
    "model.add(Dense(120, activation = \"relu\"))\n",
    "model.add(Dense(84, activation = \"relu\"))\n",
    "model.add(Dense(10, activation = \"relu\"))\n",
    "model.add(Dense(1))\n",
    "\n",
    "model.compile(loss = 'mse', optimizer = 'adam')\n",
    "history_object = model.fit_generator(train_generator, samples_per_epoch =\n",
    "    (len(train_samples)//batch_size)*batch_size, validation_data = validation_generator, \n",
    "    nb_val_samples = len(validation_samples), nb_epoch=5, verbose=1)\n",
    "\n",
    "### print the keys contained in the history object\n",
    "print(history_object.history.keys())\n",
    "### plot the training and validation loss for each epoch\n",
    "plt.plot(history_object.history['loss'])\n",
    "plt.plot(history_object.history['val_loss'])\n",
    "plt.title('model mean squared error loss')\n",
    "plt.ylabel('mean squared error loss')\n",
    "plt.xlabel('epoch')\n",
    "plt.legend(['training set', 'validation set'], loc='upper right')\n",
    "plt.show()\n",
    "\n",
    "model.save('model.h5')"
   ]
  },
  {
   "cell_type": "code",
   "execution_count": null,
   "metadata": {
    "collapsed": true
   },
   "outputs": [],
   "source": []
  }
 ],
 "metadata": {
  "kernelspec": {
   "display_name": "Python 3",
   "language": "python",
   "name": "python3"
  },
  "language_info": {
   "codemirror_mode": {
    "name": "ipython",
    "version": 3
   },
   "file_extension": ".py",
   "mimetype": "text/x-python",
   "name": "python",
   "nbconvert_exporter": "python",
   "pygments_lexer": "ipython3",
   "version": "3.5.2"
  },
  "widgets": {
   "state": {},
   "version": "1.1.2"
  }
 },
 "nbformat": 4,
 "nbformat_minor": 2
}
