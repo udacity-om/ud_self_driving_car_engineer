{
 "cells": [
  {
   "cell_type": "code",
   "execution_count": 1,
   "metadata": {},
   "outputs": [
    {
     "name": "stderr",
     "output_type": "stream",
     "text": [
      "Using TensorFlow backend.\n"
     ]
    }
   ],
   "source": [
<<<<<<< HEAD
    "# Import the required modules\n",
    "import csv\n",
    "from sklearn.model_selection import train_test_split\n",
    "from sklearn.utils import shuffle\n",
    "import numpy as np\n",
    "import cv2\n",
    "from keras.models import Sequential\n",
    "from keras.layers import Flatten, Dense, Lambda, Activation, Convolution2D, MaxPooling2D, Cropping2D, Dropout\n",
=======
    "import csv\n",
    "import numpy as np\n",
    "import cv2\n",
    "from keras.models import Sequential\n",
    "from keras.layers import Flatten, Dense, Lambda, Activation, Convolution2D, MaxPooling2D, Cropping2D\n",
>>>>>>> 9e965c9bdfd30c4fd4c8143b81367adcebe29eda
    "import matplotlib.pyplot as plt\n",
    "\n",
    "# Plot inline\n",
    "%matplotlib inline"
   ]
  },
  {
   "cell_type": "code",
   "execution_count": 2,
   "metadata": {
    "collapsed": true
   },
   "outputs": [],
   "source": [
<<<<<<< HEAD
    "# Set constant parameters\n",
    "batch_size = 32\n",
    "data_path = 'data'\n",
    "img_folder = 'IMG'\n",
    "csv_file_name = 'driving_log.csv'\n",
    "\n",
    "crop_top = 60\n",
    "crop_bottom = 130\n",
    "crop_left = 0\n",
    "crop_right = 320\n",
    "\n",
    "filter1_kernel_size = 5\n",
    "filter2_kernel_size = 3\n",
    "image_shape = (64, 64, 3)"
=======
    "batch_size = 32\n",
    "data_path = 'data'\n",
    "img_folder = 'IMG'\n",
    "csv_file_name = 'driving_log.csv'"
>>>>>>> 9e965c9bdfd30c4fd4c8143b81367adcebe29eda
   ]
  },
  {
   "cell_type": "code",
   "execution_count": 3,
   "metadata": {},
   "outputs": [
    {
     "name": "stdout",
     "output_type": "stream",
     "text": [
      "data/driving_log.csv data/IMG\n"
     ]
    }
   ],
   "source": [
<<<<<<< HEAD
    "# Read data from csv files\n",
=======
    "# Read in data\n",
    "samples = []\n",
>>>>>>> 9e965c9bdfd30c4fd4c8143b81367adcebe29eda
    "csv_full_path = data_path + '/'+ csv_file_name\n",
    "img_path = data_path + '/' + img_folder\n",
    "print(csv_full_path, img_path)"
   ]
  },
  {
   "cell_type": "code",
   "execution_count": 4,
<<<<<<< HEAD
   "metadata": {
    "collapsed": true
   },
   "outputs": [],
   "source": [
    "# Put each line from csv to a list\n",
    "samples = []\n",
=======
   "metadata": {},
   "outputs": [],
   "source": [
>>>>>>> 9e965c9bdfd30c4fd4c8143b81367adcebe29eda
    "with open(csv_full_path) as csvfile:\n",
    "    reader = csv.reader(csvfile)\n",
    "    for line in reader:\n",
    "        samples.append(line)"
   ]
  },
  {
   "cell_type": "code",
   "execution_count": 5,
   "metadata": {},
   "outputs": [
    {
<<<<<<< HEAD
     "name": "stdout",
     "output_type": "stream",
     "text": [
      "['center', 'left', 'right', 'steering', 'throttle', 'brake', 'speed']\n"
     ]
    }
   ],
   "source": [
    "print(samples[0])"
=======
     "data": {
      "text/plain": [
       "['center', 'left', 'right', 'steering', 'throttle', 'brake', 'speed']"
      ]
     },
     "execution_count": 5,
     "metadata": {},
     "output_type": "execute_result"
    }
   ],
   "source": [
    "samples[0]"
>>>>>>> 9e965c9bdfd30c4fd4c8143b81367adcebe29eda
   ]
  },
  {
   "cell_type": "code",
   "execution_count": 6,
   "metadata": {},
   "outputs": [
    {
<<<<<<< HEAD
     "name": "stdout",
     "output_type": "stream",
     "text": [
      "18074\n",
      "['IMG\\\\center_2016_12_01_13_30_48_287.jpg', 'IMG\\\\left_2016_12_01_13_30_48_287.jpg', 'IMG\\\\right_2016_12_01_13_30_48_287.jpg', '0.0', '0.0', '0.0', '22.14829']\n"
     ]
    }
   ],
   "source": [
    "# Remove the first line from list as it conatins column header\n",
    "del samples[0]\n",
    "print(len(samples))\n",
    "print(samples[0])"
=======
     "data": {
      "text/plain": [
       "['IMG\\\\center_2016_12_01_13_30_48_287.jpg',\n",
       " 'IMG\\\\left_2016_12_01_13_30_48_287.jpg',\n",
       " 'IMG\\\\right_2016_12_01_13_30_48_287.jpg',\n",
       " '0.0',\n",
       " '0.0',\n",
       " '0.0',\n",
       " '22.14829']"
      ]
     },
     "execution_count": 6,
     "metadata": {},
     "output_type": "execute_result"
    }
   ],
   "source": [
    "del samples[0]\n",
    "samples[0]"
>>>>>>> 9e965c9bdfd30c4fd4c8143b81367adcebe29eda
   ]
  },
  {
   "cell_type": "code",
   "execution_count": 7,
<<<<<<< HEAD
   "metadata": {
    "collapsed": true
   },
   "outputs": [],
   "source": [
    "# Split available data into 80% training and 20% validation data\n",
=======
   "metadata": {},
   "outputs": [],
   "source": [
    "from sklearn.model_selection import train_test_split\n",
>>>>>>> 9e965c9bdfd30c4fd4c8143b81367adcebe29eda
    "train_samples, validation_samples = train_test_split(samples, test_size=0.2)"
   ]
  },
  {
   "cell_type": "code",
   "execution_count": 8,
<<<<<<< HEAD
   "metadata": {
    "collapsed": true
   },
=======
   "metadata": {},
   "outputs": [],
   "source": [
    "crop_top = 60\n",
    "crop_bottom = 130\n",
    "crop_left = 0\n",
    "crop_right = 320"
   ]
  },
  {
   "cell_type": "code",
   "execution_count": 9,
   "metadata": {},
>>>>>>> 9e965c9bdfd30c4fd4c8143b81367adcebe29eda
   "outputs": [],
   "source": [
    "#name = data_path + '/' + samples[10][0].split('/')[-1]\n",
    "#print(name)\n",
    "#center_image = cv2.imread(name)\n",
    "#plt.imshow(center_image)\n",
    "#print(center_image.shape)"
   ]
  },
  {
   "cell_type": "code",
<<<<<<< HEAD
   "execution_count": 9,
   "metadata": {
    "collapsed": true
   },
=======
   "execution_count": 10,
   "metadata": {},
>>>>>>> 9e965c9bdfd30c4fd4c8143b81367adcebe29eda
   "outputs": [],
   "source": [
    "#cropped_image = center_image[crop_top:crop_bottom, crop_left:crop_right]\n",
    "#plt.imshow(cropped_image)\n",
    "#print(cropped_image.shape)"
   ]
  },
  {
   "cell_type": "code",
<<<<<<< HEAD
   "execution_count": 10,
   "metadata": {
    "collapsed": true
   },
=======
   "execution_count": 11,
   "metadata": {},
>>>>>>> 9e965c9bdfd30c4fd4c8143b81367adcebe29eda
   "outputs": [],
   "source": [
    "#r = 64.0 / cropped_image.shape[1]\n",
    "#dim = (64, int(center_image.shape[0] * r))\n",
    "#dim = (64, 64)\n",
    "\n",
    "# perform the actual resizing of the image and show it\n",
    "#resized = cv2.resize(cropped_image, dim, interpolation = cv2.INTER_AREA)\n",
    "#plt.imshow(resized)\n",
    "#print(resized.shape)"
   ]
  },
  {
   "cell_type": "code",
<<<<<<< HEAD
   "execution_count": 11,
=======
   "execution_count": 12,
>>>>>>> 9e965c9bdfd30c4fd4c8143b81367adcebe29eda
   "metadata": {
    "collapsed": true
   },
   "outputs": [],
   "source": [
<<<<<<< HEAD
    "def generator(samples, batch_size=32):\n",
    "    # make the number of samples a multiple of batch_size\n",
    "    N = (len(samples)//batch_size)*batch_size  \n",
=======
    "from sklearn.utils import shuffle\n",
    "correction_factor = 0.2\n",
    "\n",
    "def generator(samples, batch_size=32):\n",
    "    N = (len(samples)//batch_size)*batch_size  # make the number of samples a multiple of batch_size\n",
>>>>>>> 9e965c9bdfd30c4fd4c8143b81367adcebe29eda
    "\n",
    "    X_batch = np.zeros((batch_size, 64, 64, 3), dtype=np.float32)\n",
    "    y_batch = np.zeros((batch_size,), dtype=np.float32)    \n",
    "    \n",
<<<<<<< HEAD
    "    # Loop forever so the generator never terminates\n",
    "    while 1: \n",
=======
    "    while 1: # Loop forever so the generator never terminates\n",
>>>>>>> 9e965c9bdfd30c4fd4c8143b81367adcebe29eda
    "        shuffle(samples)\n",
    "        for offset in range(0, N, batch_size):\n",
    "            batch_samples = samples[offset:offset+batch_size]\n",
    "\n",
    "            for j,batch_sample in enumerate(batch_samples):\n",
<<<<<<< HEAD
    "                # Choose image randomly from Center/Left/Right camera\n",
    "                img_pos_choice = np.random.choice([0,1,2])\n",
    "                # Get the pth name of the image\n",
    "                name = data_path + '/'+ batch_sample[img_pos_choice].split('/')[-1]\n",
    "                #print(name)\n",
    "                # Read image in BGR format\n",
    "                image = cv2.imread(name)\n",
    "                # Convert image to RGB format as drive.py uses RGB format\n",
    "                image = cv2.cvtColor(image, cv2.COLOR_BGR2RGB) \n",
    "                # Crop the image so as to have only road data \n",
    "                cropped_image = image[crop_top:crop_bottom, crop_left:crop_right]\n",
    "                # Resize the image to reduce training time\n",
    "                resized_image = cv2.resize(cropped_image, (64,64))\n",
    "                \n",
    "                # Add correction to steering angle based on choosen camera image.\n",
=======
    "                img_pos_choice = np.random.choice([0,1,2])\n",
    "                name = data_path + '/'+ batch_sample[img_pos_choice].split('/')[-1]\n",
    "                #print(name)\n",
    "                image = cv2.imread(name) # reads BGR format\n",
    "                image = cv2.cvtColor(image, cv2.COLOR_BGR2RGB) # To RGB format\n",
    "                cropped_image = image[crop_top:crop_bottom, crop_left:crop_right]\n",
    "                resized_image = cv2.resize(cropped_image, (64,64))\n",
    "\n",
>>>>>>> 9e965c9bdfd30c4fd4c8143b81367adcebe29eda
    "                if img_pos_choice == 0:\n",
    "                    angle = float(batch_sample[3])\n",
    "\n",
    "                if img_pos_choice == 1:\n",
<<<<<<< HEAD
    "                    angle = float(batch_sample[3]) + 0.2\n",
=======
    "                    angle = float(batch_sample[3]) + correction_factor\n",
>>>>>>> 9e965c9bdfd30c4fd4c8143b81367adcebe29eda
    "\n",
    "                if img_pos_choice == 2: \n",
    "                    angle = float(batch_sample[3]) - 0.25\n",
    "                \n",
<<<<<<< HEAD
    "                # Flip random image\n",
    "                flip_prob = np.random.random()\n",
    "                if flip_prob > 0.5:\n",
    "                    # Flip the image and reverse the steering angle\n",
=======
    "                # decide whether to horizontally flip the image:\n",
    "                flip_prob = np.random.random()\n",
    "                if flip_prob > 0.5:\n",
    "                    # flip the image and reverse the steering angle\n",
>>>>>>> 9e965c9bdfd30c4fd4c8143b81367adcebe29eda
    "                    angle = -1*angle\n",
    "                    resized_image = cv2.flip(resized_image, 1)\n",
    "\n",
    "                X_batch[j] = resized_image\n",
    "                y_batch[j] = angle\n",
    "\n",
    "            yield X_batch, y_batch"
   ]
  },
  {
   "cell_type": "code",
<<<<<<< HEAD
   "execution_count": 12,
=======
   "execution_count": 13,
>>>>>>> 9e965c9bdfd30c4fd4c8143b81367adcebe29eda
   "metadata": {
    "collapsed": true
   },
   "outputs": [],
   "source": [
<<<<<<< HEAD
    "# Compile and train the model using the generator function\n",
=======
    "# compile and train the model using the generator function\n",
>>>>>>> 9e965c9bdfd30c4fd4c8143b81367adcebe29eda
    "train_generator = generator(train_samples, batch_size=batch_size)\n",
    "validation_generator = generator(validation_samples, batch_size=batch_size)"
   ]
  },
  {
   "cell_type": "code",
<<<<<<< HEAD
   "execution_count": 13,
=======
   "execution_count": 14,
   "metadata": {
    "collapsed": true
   },
   "outputs": [],
   "source": [
    "filter1_kernel_size = 5\n",
    "filter2_kernel_size = 3\n",
    "image_shape = (64, 64, 3)"
   ]
  },
  {
   "cell_type": "code",
   "execution_count": 15,
>>>>>>> 9e965c9bdfd30c4fd4c8143b81367adcebe29eda
   "metadata": {},
   "outputs": [
    {
     "name": "stdout",
     "output_type": "stream",
     "text": [
<<<<<<< HEAD
      "Epoch 1/8\n",
      "14432/14432 [==============================] - 544s - loss: 0.0267 - val_loss: 0.0217\n",
      "Epoch 2/8\n",
      "14432/14432 [==============================] - 379s - loss: 0.0224 - val_loss: 0.0216\n",
      "Epoch 3/8\n",
      "14432/14432 [==============================] - 273s - loss: 0.0214 - val_loss: 0.0209\n",
      "Epoch 4/8\n",
      "14432/14432 [==============================] - 224s - loss: 0.0209 - val_loss: 0.0203\n",
      "Epoch 5/8\n",
      "14432/14432 [==============================] - 180s - loss: 0.0201 - val_loss: 0.0187\n",
      "Epoch 6/8\n",
      "14432/14432 [==============================] - 150s - loss: 0.0197 - val_loss: 0.0192\n",
      "Epoch 7/8\n",
      "14432/14432 [==============================] - 118s - loss: 0.0195 - val_loss: 0.0191\n",
      "Epoch 8/8\n",
      "14432/14432 [==============================] - 90s - loss: 0.0194 - val_loss: 0.0186\n",
=======
      "Epoch 1/5\n",
      "14432/14432 [==============================] - 503s - loss: 0.0244 - val_loss: 0.0214\n",
      "Epoch 2/5\n",
      "14432/14432 [==============================] - 417s - loss: 0.0213 - val_loss: 0.0202\n",
      "Epoch 3/5\n",
      "14432/14432 [==============================] - 476s - loss: 0.0200 - val_loss: 0.0193\n",
      "Epoch 4/5\n",
      "14432/14432 [==============================] - 413s - loss: 0.0194 - val_loss: 0.0187\n",
      "Epoch 5/5\n",
      "14432/14432 [==============================] - 325s - loss: 0.0187 - val_loss: 0.0183\n",
>>>>>>> 9e965c9bdfd30c4fd4c8143b81367adcebe29eda
      "dict_keys(['loss', 'val_loss'])\n"
     ]
    },
    {
     "data": {
<<<<<<< HEAD
      "image/png": "iVBORw0KGgoAAAANSUhEUgAAAZIAAAEWCAYAAABMoxE0AAAABHNCSVQICAgIfAhkiAAAAAlwSFlz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\nQmCC\n",
      "text/plain": [
       "<matplotlib.figure.Figure at 0xd7ffba8>"
=======
      "image/png": "iVBORw0KGgoAAAANSUhEUgAAAZIAAAEWCAYAAABMoxE0AAAABHNCSVQICAgIfAhkiAAAAAlwSFlz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\nTkSuQmCC\n",
      "text/plain": [
       "<matplotlib.figure.Figure at 0xd2cfb00>"
>>>>>>> 9e965c9bdfd30c4fd4c8143b81367adcebe29eda
      ]
     },
     "metadata": {},
     "output_type": "display_data"
    }
   ],
   "source": [
    "# Initialize the model\n",
    "model = Sequential()\n",
    "# Pre-processing: Normalizing and mean centered\n",
    "model.add(Lambda(lambda x: (x / 255.0) - 0.5, input_shape = image_shape))\n",
<<<<<<< HEAD
    "# Modified LeNet model\n",
=======
>>>>>>> 9e965c9bdfd30c4fd4c8143b81367adcebe29eda
    "model.add(Convolution2D(nb_filter = 6, nb_row = filter1_kernel_size, nb_col = filter1_kernel_size, activation = \"relu\"))\n",
    "model.add(MaxPooling2D())\n",
    "model.add(Convolution2D(nb_filter = 6, nb_row = filter1_kernel_size, nb_col = filter1_kernel_size, activation = \"relu\"))\n",
    "model.add(MaxPooling2D())\n",
    "model.add(Flatten())\n",
<<<<<<< HEAD
    "model.add(Dense(1000, activation = \"relu\"))\n",
    "model.add(Dropout(0.3))\n",
    "model.add(Dense(120, activation = \"relu\"))\n",
    "model.add(Dropout(0.2))\n",
    "model.add(Dense(84, activation = \"relu\"))\n",
    "model.add(Dropout(0.2))\n",
    "model.add(Dense(10, activation = \"relu\"))\n",
    "model.add(Dense(1))\n",
    "\n",
    "# Compile the model with Adam optimizer and MSE loss method\n",
    "model.compile(loss = 'mse', optimizer = 'adam')\n",
    "history_object = model.fit_generator(train_generator, samples_per_epoch =\n",
    "    (len(train_samples)//batch_size)*batch_size, validation_data = validation_generator, \n",
    "    nb_val_samples = len(validation_samples), nb_epoch=8, verbose=1)\n",
=======
    "model.add(Dense(120, activation = \"relu\"))\n",
    "model.add(Dense(84, activation = \"relu\"))\n",
    "model.add(Dense(10, activation = \"relu\"))\n",
    "model.add(Dense(1))\n",
    "\n",
    "model.compile(loss = 'mse', optimizer = 'adam')\n",
    "history_object = model.fit_generator(train_generator, samples_per_epoch =\n",
    "    (len(train_samples)//batch_size)*batch_size, validation_data = validation_generator, \n",
    "    nb_val_samples = len(validation_samples), nb_epoch=5, verbose=1)\n",
>>>>>>> 9e965c9bdfd30c4fd4c8143b81367adcebe29eda
    "\n",
    "### print the keys contained in the history object\n",
    "print(history_object.history.keys())\n",
    "### plot the training and validation loss for each epoch\n",
    "plt.plot(history_object.history['loss'])\n",
    "plt.plot(history_object.history['val_loss'])\n",
    "plt.title('model mean squared error loss')\n",
    "plt.ylabel('mean squared error loss')\n",
    "plt.xlabel('epoch')\n",
    "plt.legend(['training set', 'validation set'], loc='upper right')\n",
    "plt.show()\n",
    "\n",
<<<<<<< HEAD
    "# Save the model\n",
=======
>>>>>>> 9e965c9bdfd30c4fd4c8143b81367adcebe29eda
    "model.save('model.h5')"
   ]
  },
  {
   "cell_type": "code",
   "execution_count": null,
   "metadata": {
    "collapsed": true
   },
   "outputs": [],
   "source": []
  }
 ],
 "metadata": {
  "kernelspec": {
   "display_name": "Python 3",
   "language": "python",
   "name": "python3"
  },
  "language_info": {
   "codemirror_mode": {
    "name": "ipython",
    "version": 3
   },
   "file_extension": ".py",
   "mimetype": "text/x-python",
   "name": "python",
   "nbconvert_exporter": "python",
   "pygments_lexer": "ipython3",
   "version": "3.5.2"
  },
  "widgets": {
   "state": {},
   "version": "1.1.2"
  }
 },
 "nbformat": 4,
 "nbformat_minor": 2
}
