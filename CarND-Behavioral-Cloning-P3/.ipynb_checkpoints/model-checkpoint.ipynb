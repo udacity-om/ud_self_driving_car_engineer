{
 "cells": [
  {
   "cell_type": "code",
   "execution_count": 1,
   "metadata": {},
   "outputs": [
    {
     "name": "stderr",
     "output_type": "stream",
     "text": [
      "Using TensorFlow backend.\n"
     ]
    }
   ],
   "source": [
    "# Import the required modules\n",
    "import csv\n",
    "from sklearn.model_selection import train_test_split\n",
    "from sklearn.utils import shuffle\n",
    "import numpy as np\n",
    "import cv2\n",
    "from keras.models import Sequential\n",
    "from keras.layers import Flatten, Dense, Lambda, Activation, Convolution2D, MaxPooling2D, Cropping2D, Dropout\n",
    "import matplotlib.pyplot as plt\n",
    "\n",
    "# Plot inline\n",
    "%matplotlib inline"
   ]
  },
  {
   "cell_type": "code",
   "execution_count": 2,
   "metadata": {
    "collapsed": true
   },
   "outputs": [],
   "source": [
    "# Set constant parameters\n",
    "batch_size = 32\n",
    "data_path = 'data'\n",
    "img_folder = 'IMG'\n",
    "csv_file_name = 'driving_log.csv'\n",
    "\n",
    "crop_top = 60\n",
    "crop_bottom = 130\n",
    "crop_left = 0\n",
    "crop_right = 320\n",
    "\n",
    "filter1_kernel_size = 5\n",
    "filter2_kernel_size = 3\n",
    "image_shape = (64, 64, 3)"
   ]
  },
  {
   "cell_type": "code",
   "execution_count": 3,
   "metadata": {},
   "outputs": [
    {
     "name": "stdout",
     "output_type": "stream",
     "text": [
      "data/driving_log.csv data/IMG\n"
     ]
    }
   ],
   "source": [
    "# Read data from csv files\n",
    "csv_full_path = data_path + '/'+ csv_file_name\n",
    "img_path = data_path + '/' + img_folder\n",
    "print(csv_full_path, img_path)"
   ]
  },
  {
   "cell_type": "code",
   "execution_count": 4,
   "metadata": {
    "collapsed": true
   },
   "outputs": [],
   "source": [
    "# Put each line from csv to a list\n",
    "samples = []\n",
    "with open(csv_full_path) as csvfile:\n",
    "    reader = csv.reader(csvfile)\n",
    "    for line in reader:\n",
    "        samples.append(line)"
   ]
  },
  {
   "cell_type": "code",
   "execution_count": 5,
   "metadata": {},
   "outputs": [
    {
     "name": "stdout",
     "output_type": "stream",
     "text": [
      "['center', 'left', 'right', 'steering', 'throttle', 'brake', 'speed']\n"
     ]
    }
   ],
   "source": [
    "print(samples[0])"
   ]
  },
  {
   "cell_type": "code",
   "execution_count": 6,
   "metadata": {},
   "outputs": [
    {
     "name": "stdout",
     "output_type": "stream",
     "text": [
      "18074\n",
      "['IMG\\\\center_2016_12_01_13_30_48_287.jpg', 'IMG\\\\left_2016_12_01_13_30_48_287.jpg', 'IMG\\\\right_2016_12_01_13_30_48_287.jpg', '0.0', '0.0', '0.0', '22.14829']\n"
     ]
    }
   ],
   "source": [
    "# Remove the first line from list as it conatins column header\n",
    "del samples[0]\n",
    "print(len(samples))\n",
    "print(samples[0])"
   ]
  },
  {
   "cell_type": "code",
   "execution_count": 7,
   "metadata": {
    "collapsed": true
   },
   "outputs": [],
   "source": [
    "# Split available data into 80% training and 20% validation data\n",
    "train_samples, validation_samples = train_test_split(samples, test_size=0.2)"
   ]
  },
  {
   "cell_type": "code",
   "execution_count": 8,
   "metadata": {
    "collapsed": true
   },
   "outputs": [],
   "source": [
    "#name = data_path + '/' + samples[10][0].split('/')[-1]\n",
    "#print(name)\n",
    "#center_image = cv2.imread(name)\n",
    "#plt.imshow(center_image)\n",
    "#print(center_image.shape)"
   ]
  },
  {
   "cell_type": "code",
   "execution_count": 9,
   "metadata": {
    "collapsed": true
   },
   "outputs": [],
   "source": [
    "#cropped_image = center_image[crop_top:crop_bottom, crop_left:crop_right]\n",
    "#plt.imshow(cropped_image)\n",
    "#print(cropped_image.shape)"
   ]
  },
  {
   "cell_type": "code",
   "execution_count": 10,
   "metadata": {
    "collapsed": true
   },
   "outputs": [],
   "source": [
    "#r = 64.0 / cropped_image.shape[1]\n",
    "#dim = (64, int(center_image.shape[0] * r))\n",
    "#dim = (64, 64)\n",
    "\n",
    "# perform the actual resizing of the image and show it\n",
    "#resized = cv2.resize(cropped_image, dim, interpolation = cv2.INTER_AREA)\n",
    "#plt.imshow(resized)\n",
    "#print(resized.shape)"
   ]
  },
  {
   "cell_type": "code",
   "execution_count": 11,
   "metadata": {
    "collapsed": true
   },
   "outputs": [],
   "source": [
    "def generator(samples, batch_size=32):\n",
    "    # make the number of samples a multiple of batch_size\n",
    "    N = (len(samples)//batch_size)*batch_size  \n",
    "\n",
    "    X_batch = np.zeros((batch_size, 64, 64, 3), dtype=np.float32)\n",
    "    y_batch = np.zeros((batch_size,), dtype=np.float32)    \n",
    "    \n",
    "    # Loop forever so the generator never terminates\n",
    "    while 1: \n",
    "        shuffle(samples)\n",
    "        for offset in range(0, N, batch_size):\n",
    "            batch_samples = samples[offset:offset+batch_size]\n",
    "\n",
    "            for j,batch_sample in enumerate(batch_samples):\n",
    "                # Choose image randomly from Center/Left/Right camera\n",
    "                img_pos_choice = np.random.choice([0,1,2])\n",
    "                # Get the pth name of the image\n",
    "                name = data_path + '/'+ batch_sample[img_pos_choice].split('/')[-1]\n",
    "                #print(name)\n",
    "                # Read image in BGR format\n",
    "                image = cv2.imread(name)\n",
    "                # Convert image to RGB format as drive.py uses RGB format\n",
    "                image = cv2.cvtColor(image, cv2.COLOR_BGR2RGB) \n",
    "                # Crop the image so as to have only road data \n",
    "                cropped_image = image[crop_top:crop_bottom, crop_left:crop_right]\n",
    "                # Resize the image to reduce training time\n",
    "                resized_image = cv2.resize(cropped_image, (64,64))\n",
    "                \n",
    "                # Add correction to steering angle based on choosen camera image.\n",
    "                if img_pos_choice == 0:\n",
    "                    angle = float(batch_sample[3])\n",
    "\n",
    "                if img_pos_choice == 1:\n",
    "                    angle = float(batch_sample[3]) + 0.2\n",
    "\n",
    "                if img_pos_choice == 2: \n",
    "                    angle = float(batch_sample[3]) - 0.25\n",
    "                \n",
    "                # Flip random image\n",
    "                flip_prob = np.random.random()\n",
    "                if flip_prob > 0.5:\n",
    "                    # Flip the image and reverse the steering angle\n",
    "                    angle = -1*angle\n",
    "                    resized_image = cv2.flip(resized_image, 1)\n",
    "\n",
    "                X_batch[j] = resized_image\n",
    "                y_batch[j] = angle\n",
    "\n",
    "            yield X_batch, y_batch"
   ]
  },
  {
   "cell_type": "code",
   "execution_count": 12,
   "metadata": {
    "collapsed": true
   },
   "outputs": [],
   "source": [
    "# Compile and train the model using the generator function\n",
    "train_generator = generator(train_samples, batch_size=batch_size)\n",
    "validation_generator = generator(validation_samples, batch_size=batch_size)"
   ]
  },
  {
   "cell_type": "code",
   "execution_count": 13,
   "metadata": {},
   "outputs": [
    {
     "name": "stdout",
     "output_type": "stream",
     "text": [
      "Epoch 1/8\n",
      "14432/14432 [==============================] - 544s - loss: 0.0267 - val_loss: 0.0217\n",
      "Epoch 2/8\n",
      "14432/14432 [==============================] - 379s - loss: 0.0224 - val_loss: 0.0216\n",
      "Epoch 3/8\n",
      "14432/14432 [==============================] - 273s - loss: 0.0214 - val_loss: 0.0209\n",
      "Epoch 4/8\n",
      "14432/14432 [==============================] - 224s - loss: 0.0209 - val_loss: 0.0203\n",
      "Epoch 5/8\n",
      "14432/14432 [==============================] - 180s - loss: 0.0201 - val_loss: 0.0187\n",
      "Epoch 6/8\n",
      "14432/14432 [==============================] - 150s - loss: 0.0197 - val_loss: 0.0192\n",
      "Epoch 7/8\n",
      "14432/14432 [==============================] - 118s - loss: 0.0195 - val_loss: 0.0191\n",
      "Epoch 8/8\n",
      "14432/14432 [==============================] - 90s - loss: 0.0194 - val_loss: 0.0186\n",
      "dict_keys(['loss', 'val_loss'])\n"
     ]
    },
    {
     "data": {
      "image/png": "[encoded data removed]",
      "text/plain": [
       "<matplotlib.figure.Figure at 0xd7ffba8>"
      ]
     },
     "metadata": {},
     "output_type": "display_data"
    }
   ],
   "source": [
    "# Initialize the model\n",
    "model = Sequential()\n",
    "# Pre-processing: Normalizing and mean centered\n",
    "model.add(Lambda(lambda x: (x / 255.0) - 0.5, input_shape = image_shape))\n",
    "# Modified LeNet model\n",
    "model.add(Convolution2D(nb_filter = 6, nb_row = filter1_kernel_size, nb_col = filter1_kernel_size, activation = \"relu\"))\n",
    "model.add(MaxPooling2D())\n",
    "model.add(Convolution2D(nb_filter = 6, nb_row = filter1_kernel_size, nb_col = filter1_kernel_size, activation = \"relu\"))\n",
    "model.add(MaxPooling2D())\n",
    "model.add(Flatten())\n",
    "model.add(Dense(1000, activation = \"relu\"))\n",
    "model.add(Dropout(0.3))\n",
    "model.add(Dense(120, activation = \"relu\"))\n",
    "model.add(Dropout(0.2))\n",
    "model.add(Dense(84, activation = \"relu\"))\n",
    "model.add(Dropout(0.2))\n",
    "model.add(Dense(10, activation = \"relu\"))\n",
    "model.add(Dense(1))\n",
    "\n",
    "# Compile the model with Adam optimizer and MSE loss method\n",
    "model.compile(loss = 'mse', optimizer = 'adam')\n",
    "history_object = model.fit_generator(train_generator, samples_per_epoch =\n",
    "    (len(train_samples)//batch_size)*batch_size, validation_data = validation_generator, \n",
    "    nb_val_samples = len(validation_samples), nb_epoch=8, verbose=1)\n",
    "\n",
    "### print the keys contained in the history object\n",
    "print(history_object.history.keys())\n",
    "### plot the training and validation loss for each epoch\n",
    "plt.plot(history_object.history['loss'])\n",
    "plt.plot(history_object.history['val_loss'])\n",
    "plt.title('model mean squared error loss')\n",
    "plt.ylabel('mean squared error loss')\n",
    "plt.xlabel('epoch')\n",
    "plt.legend(['training set', 'validation set'], loc='upper right')\n",
    "plt.show()\n",
    "\n",
    "# Save the model\n",
    "model.save('model.h5')"
   ]
  },
  {
   "cell_type": "code",
   "execution_count": null,
   "metadata": {
    "collapsed": true
   },
   "outputs": [],
   "source": []
  }
 ],
 "metadata": {
  "kernelspec": {
   "display_name": "Python 3",
   "language": "python",
   "name": "python3"
  },
  "language_info": {
   "codemirror_mode": {
    "name": "ipython",
    "version": 3
   },
   "file_extension": ".py",
   "mimetype": "text/x-python",
   "name": "python",
   "nbconvert_exporter": "python",
   "pygments_lexer": "ipython3",
   "version": "3.5.2"
  },
  "widgets": {
   "state": {},
   "version": "1.1.2"
  }
 },
 "nbformat": 4,
 "nbformat_minor": 2
}
